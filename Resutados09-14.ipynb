{
 "cells": [
  {
   "cell_type": "code",
   "execution_count": 1,
   "metadata": {},
   "outputs": [],
   "source": [
    "class eigen:\n",
    "    \n",
    "    def __init__(self):  \n",
    "        \n",
    "        #variables\n",
    "        sig=0.001# fermi coeficiente\n",
    "        eh=0.381 #EnergyofH\n",
    "        self.a0=100  #bohr Radius Angstrons\n",
    "        self.L=200/self.a0\n",
    "        self.Ry= eh##/m\n",
    "        n=3000\n",
    "        \n",
    "        self.n = n\n",
    "        self.x = self.xgrade()\n",
    "        self.sig = sig\n",
    "    \n",
    "    \n",
    "    def xgrade(self):\n",
    "        return np.cos(np.pi*np.arange(self.n+1)/self.n) \n",
    "    \n",
    "    def fpot(self,xc):\n",
    "        return np.array(1/(np.exp((self.x-xc)/self.sig**2)+1))\n",
    "    \n",
    "    def pot(self,Eqw,lqw):\n",
    "        lqw=(lqw/2)\n",
    "        fl=self.fpot(-lqw)\n",
    "        fr=self.fpot(lqw)\n",
    "        return (1+fl-fr)*Eqw\n",
    "    \n",
    "    def mass(self,masswell,massbar,masswidth):\n",
    "        masswidth=masswidth/self.L/self.a0\n",
    "        delta_mass=massbar-masswell\n",
    "        return self.pot(delta_mass,masswidth)+masswell\n",
    "         \n",
    "\n",
    "    \n",
    "    def massae(self,val,mw1,EQW, Eg):\n",
    "        Ec=1700 #meV \n",
    "        Ev=5500 #meV\n",
    "        #mb1=(Eb/Ew)*mw1 # condição usado por Nelson \n",
    "        \n",
    "        mb1=mw1/0.4\n",
    "        \n",
    "        mw= mw1*(1+val/Eg)\n",
    "        \n",
    "        #mb=mb1*(1-(EQW-val)/(Eg+Ec+Ev))\n",
    "        mb=mw/0.4\n",
    "        return mw,mb\n",
    "      \n",
    "    def chebb(self,m,Eqw ,Lqw): #########################################\n",
    "        \n",
    "        lqw= Lqw/self.L/self.a0\n",
    "        Eqw = Eqw/self.Ry; #[Eqw] = meV\n",
    "        \n",
    "        \n",
    "        M=1/m    \n",
    "                \n",
    "        xrep=np.matlib.repmat(self.x,self.n+1,1).T\n",
    "        c=np.matrix(np.insert((-1)**np.arange(1,self.n),(0,self.n-1),[2,2*(-1)**self.n]))\n",
    "        dx= xrep-xrep.T\n",
    "        D=(np.dot(c.T,1/c))/(dx+(np.eye(self.n+1)))\n",
    "        D= D-np.diagflat(np.sum(D,1))\n",
    "        \n",
    "\n",
    "        #mD^2\n",
    "     \n",
    "        \n",
    "        DD=np.dot(D,D)#3º1/m*(D*D)\n",
    "        mDD=np.dot(np.diagflat(M),DD)\n",
    "        \n",
    "        #DmD\n",
    "        \n",
    "        h=(-(self.x[2:]-self.x[0:-2]))**2\n",
    "        diag1= np.append(0,((1/h[:])*(M[2:]-M[0:-2])))\n",
    "        diag2= np.append((-(1/h[:])*(M[2:]-M[0:-2])),0)\n",
    "        DmD=np.diagflat([diag1], 1)+np.diagflat([diag2], -1)\n",
    "        \n",
    "        D_total=(mDD+DmD)[1:self.n,1:self.n]\n",
    "        \n",
    "        Vc=self.pot(Eqw,lqw)[1:self.n]*self.Ry\n",
    "        H=-self.Ry*D_total/self.L/self.L+np.diagflat(Vc) # diagflat(Vc) - produz uma matriz diagonal com vetor Vc\n",
    "        \n",
    "        #H=-self.Ry*mDD/self.L/self.L+np.diagflat(Vc)\n",
    "        \n",
    "        #pegando os eigenvalues e eigenfunctions do Hamiltoniano com o Ry=cte\n",
    "        val,vet=la.eig(H)\n",
    "        p=np.argsort(val) # ordenando os eigenvalues \n",
    "        valp=val[p] \n",
    "        vetp=vet[:,p]\n",
    "\n",
    "        \n",
    "        f_wave=10000*np.power(vetp,2)+np.matlib.repmat(valp,self.n-1,1)\n",
    "        \n",
    "        return valp,vetp,f_wave,Vc\n",
    "    \n",
    "    def get_mE(self,m,mw1, Eqw ,lqw,Eg):\n",
    "       \n",
    "        Eold=300\n",
    "        e=[]\n",
    "        diff=[]\n",
    "        dif=2\n",
    "        count=0\n",
    "        for i in range(1):\n",
    "            while dif>=.2:\n",
    "                val,vet,wave,Vc= self.chebb(m,Eqw,lqw)\n",
    "                E=val[0]\n",
    "                dif=np.abs(Eold - E)/Eold\n",
    "                Eold=E\n",
    "                e.append(E)\n",
    "                diff.append(dif)\n",
    "                mw,mb=self.massae(E,mw1,Eqw,Eg)\n",
    "                m=self.mass(mw,mb,lqw)\n",
    "                count+=1\n",
    "                if count==15:\n",
    "                    print(E,mw)\n",
    "        return E,e,diff,m,mw,mb\n",
    "        "
   ]
  },
  {
   "cell_type": "code",
   "execution_count": 2,
   "metadata": {},
   "outputs": [],
   "source": [
    "import numpy as np\n",
    "import numpy.matlib\n",
    "from numpy import linalg as la\n",
    "import matplotlib.pyplot as plt"
   ]
  },
  {
   "cell_type": "markdown",
   "metadata": {
    "collapsed": true
   },
   "source": [
    "# Apenas chebb (0.105,0.22)#\n"
   ]
  },
  {
   "cell_type": "code",
   "execution_count": 3,
   "metadata": {},
   "outputs": [
    {
     "name": "stderr",
     "output_type": "stream",
     "text": [
      "/usr/local/lib/python3.5/dist-packages/ipykernel_launcher.py:22: RuntimeWarning: overflow encountered in exp\n"
     ]
    }
   ],
   "source": [
    "tst=eigen()\n",
    "lqw=[6.40, 12.73, 18.95, 25.22]\n",
    "Eg=[]\n",
    "for i in range(len(lqw)):\n",
    "    me=tst.mass(0.105,0.262,lqw[i])\n",
    "    mh=tst.mass(0.22,0.55,lqw[i])\n",
    "    vb,vetv,wv,potv = tst.chebb(me,Eqw=900,Lqw=lqw[i])\n",
    "    vbc,vetc,wvc,potvc = tst.chebb(mh,Eqw=2900,Lqw=lqw[i])\n",
    "    Eg.append((vb[0]+vbc[0])/1000+1.7)"
   ]
  },
  {
   "cell_type": "code",
   "execution_count": 4,
   "metadata": {},
   "outputs": [
    {
     "data": {
      "text/plain": [
       "[3.156291790450032, 2.433487044980285, 2.1637348923838338, 2.017191428762696]"
      ]
     },
     "execution_count": 4,
     "metadata": {},
     "output_type": "execute_result"
    }
   ],
   "source": [
    "Eg"
   ]
  },
  {
   "cell_type": "markdown",
   "metadata": {},
   "source": [
    "# Apenas chebb BAMA traore#"
   ]
  },
  {
   "cell_type": "code",
   "execution_count": null,
   "metadata": {},
   "outputs": [],
   "source": [
    "tst=eigen()\n",
    "lqw=[6.40, 12.73, 18.95, 25.22]\n",
    "Eg=1700\n",
    "Egap=[]\n",
    "Vwm=[]\n",
    "Cwm=[]\n",
    "\n",
    "for i in range(len(lqw)):\n",
    "    me=tst.mass(0.35,0.87,lqw[i])\n",
    "    mh=tst.mass(0.47,1.175,lqw[i])\n",
    "    E,e,dif ,m,mw,mb=tst.get_mE(m=me,mw1=0.35, Eqw=2700 ,lqw=lqw[i],Eg=Eg)\n",
    "    Eh,eh,diffh,mh,mwh,mbh=tst.get_mE(m=mh,mw1=0.47, Eqw=2800 ,lqw=lqw[i], Eg=Eg)    \n",
    "    Egap.append((E+Eh+Eg)/1000)#+1.7)\n",
    "    Cwm.append([mw,mb])\n",
    "    Vwm.append([mwh,mbh])"
   ]
  },
  {
   "cell_type": "code",
   "execution_count": null,
   "metadata": {},
   "outputs": [],
   "source": [
    "Egap"
   ]
  },
  {
   "cell_type": "markdown",
   "metadata": {},
   "source": [
    "# Apenas chebb (0.35,0.47)#\n"
   ]
  },
  {
   "cell_type": "code",
   "execution_count": 5,
   "metadata": {},
   "outputs": [
    {
     "name": "stderr",
     "output_type": "stream",
     "text": [
      "/usr/local/lib/python3.5/dist-packages/ipykernel_launcher.py:22: RuntimeWarning: overflow encountered in exp\n"
     ]
    }
   ],
   "source": [
    "tst=eigen()\n",
    "lqw=[6.40, 12.55, 18.95, 25.22]\n",
    "Eg2=[]\n",
    "for i in range(len(lqw)):\n",
    "    me=tst.mass(0.35,0.87,lqw[i])\n",
    "    mh=tst.mass(0.47,1.175,lqw[i])\n",
    "    vb,vetv,wv,potv = tst.chebb(me,Eqw=900,Lqw=lqw[i])\n",
    "    vbc,vetc,wvc,potvc = tst.chebb(mh,Eqw=2900,Lqw=lqw[i])\n",
    "    Eg2.append((vb[0]+vbc[0])/1000+1.7)"
   ]
  },
  {
   "cell_type": "code",
   "execution_count": 6,
   "metadata": {},
   "outputs": [
    {
     "data": {
      "text/plain": [
       "[2.681806251523486,\n",
       " 2.14502439812433,\n",
       " 1.9509982373800958,\n",
       " 1.8622265172800614,\n",
       " 1.8159060797718838]"
      ]
     },
     "execution_count": 6,
     "metadata": {},
     "output_type": "execute_result"
    }
   ],
   "source": [
    "Eg2"
   ]
  },
  {
   "cell_type": "markdown",
   "metadata": {},
   "source": [
    "# Apenas chebb poço Infinto"
   ]
  },
  {
   "cell_type": "code",
   "execution_count": null,
   "metadata": {},
   "outputs": [],
   "source": [
    "tst=eigen()\n",
    "lqw=[5, 10 ,15 ,20]\n",
    "EgQW=[]\n",
    "for i in range(len(lqw)):\n",
    "    me=tst.mass(0.4,0.4,lqw[i])\n",
    "    vb,vetv,wv,potv = tst.chebb(me,Eqw=9000000000,Lqw=lqw[i])\n",
    "    EgQW.append(vb[0])"
   ]
  },
  {
   "cell_type": "code",
   "execution_count": null,
   "metadata": {},
   "outputs": [],
   "source": [
    "EgQW"
   ]
  },
  {
   "cell_type": "code",
   "execution_count": null,
   "metadata": {},
   "outputs": [],
   "source": [
    "a0=100\n",
    "eh=0.381#meV\n",
    "m=0.4\n",
    "LQW=[5, 10 ,15 ,20]\n",
    "Ry=eh/m\n",
    "n=1#np.arange(1,7,1)\n",
    "eg=[]\n",
    "for i in range(len(LQW)):\n",
    "    exata=((n**2*np.pi**2)/((LQW[i]/a0)**2))*Ry\n",
    "    eg.append(exata)"
   ]
  },
  {
   "cell_type": "code",
   "execution_count": null,
   "metadata": {},
   "outputs": [],
   "source": [
    "eg"
   ]
  },
  {
   "cell_type": "markdown",
   "metadata": {},
   "source": [
    "  "
   ]
  },
  {
   "cell_type": "markdown",
   "metadata": {},
   "source": [
    " "
   ]
  },
  {
   "cell_type": "markdown",
   "metadata": {},
   "source": [
    " "
   ]
  },
  {
   "cell_type": "markdown",
   "metadata": {},
   "source": [
    "# Com não-parabolicidade \\ Eg constante\n"
   ]
  },
  {
   "cell_type": "code",
   "execution_count": null,
   "metadata": {},
   "outputs": [],
   "source": [
    "tst=eigen()\n",
    "lqw=[6.40, 12.73, 18.95, 25.22]\n",
    "Eg=1700\n",
    "Egap=[]\n",
    "Vwm=[]\n",
    "Cwm=[]\n",
    "\n",
    "for i in range(len(lqw)):\n",
    "    me=tst.mass(0.35,0.87,lqw[i])\n",
    "    mh=tst.mass(0.47,1.175,lqw[i])\n",
    "    E,e,dif ,m,mw,mb=tst.get_mE(m=me,mw1=0.35, Eqw=900 ,lqw=lqw[i],Eg=Eg)\n",
    "    Eh,eh,diffh,mh,mwh,mbh=tst.get_mE(m=mh,mw1=0.47, Eqw=2900 ,lqw=lqw[i], Eg=Eg)    \n",
    "    Egap.append((E+Eh+Eg)/1000)#+1.7)\n",
    "    Cwm.append([mw,mb])\n",
    "    Vwm.append([mwh,mbh])"
   ]
  },
  {
   "cell_type": "code",
   "execution_count": null,
   "metadata": {},
   "outputs": [],
   "source": [
    "Egap"
   ]
  },
  {
   "cell_type": "markdown",
   "metadata": {},
   "source": [
    " "
   ]
  },
  {
   "cell_type": "markdown",
   "metadata": {},
   "source": [
    " "
   ]
  },
  {
   "cell_type": "markdown",
   "metadata": {},
   "source": [
    " "
   ]
  },
  {
   "cell_type": "markdown",
   "metadata": {},
   "source": [
    "# Com não-parabolicidade \\ Eg variável"
   ]
  },
  {
   "cell_type": "code",
   "execution_count": 17,
   "metadata": {},
   "outputs": [
    {
     "name": "stderr",
     "output_type": "stream",
     "text": [
      "/usr/local/lib/python3.5/dist-packages/ipykernel_launcher.py:22: RuntimeWarning: overflow encountered in exp\n"
     ]
    }
   ],
   "source": [
    "tst=eigen()\n",
    "lqw=[6.4,12.73,18.95,25.35,31.59,37.99,50.79,63.59,76.39,89.19,95.59]\n",
    "Eg=[110,280,220,160,107.8,85.1,56.9,40.1,28.8, 20.5,17.1]\n",
    "Egap=[]\n",
    "Vwm=[]\n",
    "Cwm=[]\n",
    "\n",
    "for i in range(len(lqw)):\n",
    "    me=tst.mass(0.35,0.87,lqw[i])\n",
    "    mh=tst.mass(0.47,1.175,lqw[i])\n",
    "    E,e,dif ,m,mw,mb=tst.get_mE(m=me,mw1=0.35, Eqw=900 ,lqw=lqw[i],Eg=Eg[i]+1700)\n",
    "    Eh,eh,diffh,mh,mwh,mbh=tst.get_mE(m=mh,mw1=0.47, Eqw=2900 ,lqw=lqw[i], Eg=Eg[i]+1700)    \n",
    "    Egap.append((E+Eh+Eg[i]+1700)/1000)#+1.7)\n",
    "    Cwm.append([mw,mb])\n",
    "    Vwm.append([mwh,mbh])"
   ]
  },
  {
   "cell_type": "code",
   "execution_count": 42,
   "metadata": {},
   "outputs": [
    {
     "data": {
      "text/plain": [
       "9.196032746126075"
      ]
     },
     "execution_count": 42,
     "metadata": {},
     "output_type": "execute_result"
    }
   ],
   "source": [
    "E"
   ]
  },
  {
   "cell_type": "code",
   "execution_count": 40,
   "metadata": {
    "scrolled": true
   },
   "outputs": [],
   "source": [
    "np.savetxt('e.out', T, delimiter=';',fmt='%1.3f') "
   ]
  },
  {
   "cell_type": "code",
   "execution_count": 39,
   "metadata": {},
   "outputs": [
    {
     "data": {
      "text/plain": [
       "array([[0.601, 1.502],\n",
       "       [0.528, 1.32 ],\n",
       "       [0.501, 1.253],\n",
       "       [0.491, 1.227],\n",
       "       [0.485, 1.212],\n",
       "       [0.481, 1.202],\n",
       "       [0.477, 1.192],\n",
       "       [0.474, 1.186],\n",
       "       [0.473, 1.183],\n",
       "       [0.472, 1.181],\n",
       "       [0.472, 1.18 ]])"
      ]
     },
     "execution_count": 39,
     "metadata": {},
     "output_type": "execute_result"
    }
   ],
   "source": [
    "T"
   ]
  },
  {
   "cell_type": "code",
   "execution_count": null,
   "metadata": {},
   "outputs": [],
   "source": []
  }
 ],
 "metadata": {
  "kernelspec": {
   "display_name": "Python 3",
   "language": "python",
   "name": "python3"
  },
  "language_info": {
   "codemirror_mode": {
    "name": "ipython",
    "version": 3
   },
   "file_extension": ".py",
   "mimetype": "text/x-python",
   "name": "python",
   "nbconvert_exporter": "python",
   "pygments_lexer": "ipython3",
   "version": "3.5.2"
  }
 },
 "nbformat": 4,
 "nbformat_minor": 2
}
